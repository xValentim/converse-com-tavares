{
 "cells": [
  {
   "cell_type": "code",
   "execution_count": 3,
   "metadata": {},
   "outputs": [],
   "source": [
    "from langchain_community.document_loaders import YoutubeLoader\n",
    "from langchain.text_splitter import RecursiveCharacterTextSplitter\n",
    "\n",
    "from youtube_transcript_api import YouTubeTranscriptApi\n",
    "from pytube import Playlist\n",
    "from tqdm import tqdm\n",
    "\n",
    "from langchain_community.document_loaders import TextLoader\n",
    "from langchain.schema import Document\n",
    "from dotenv import load_dotenv\n",
    "\n",
    "load_dotenv()\n",
    "\n",
    "import time\n",
    "import os\n",
    "\n",
    "def insert_metadata_and_type(documents, reference):\n",
    "    for idx, doc in enumerate(documents):\n",
    "        page_content = doc.page_content\n",
    "        title = reference.metadata['title']\n",
    "        view_count = reference.metadata['view_count']\n",
    "        publish_date = reference.metadata['publish_date']\n",
    "        author = reference.metadata['author']\n",
    "        description = reference.metadata['description']\n",
    "        link_video = f\"https://www.youtube.com/watch?v={reference.metadata['source']}\"\n",
    "        new_page_content = f'Title: {title}\\nViews count: {view_count}\\nPublish date: {publish_date}\\nAuthor: {author}\\nDescription: {description}\\nLink video: {link_video}\\n\\n{page_content}'\n",
    "        \n",
    "        documents[idx] = Document(\n",
    "            page_content=new_page_content,\n",
    "            metadata=reference.metadata,\n",
    "            type=reference.type\n",
    "        )\n",
    "    return documents\n",
    "\n",
    "playlist_link_list = ['https://www.youtube.com/playlist?list=PLg0ijj_Zz1a4r6JNAIcKI3io8PKdmdMYD',  # Calculo vetorial\n",
    "                      'https://www.youtube.com/playlist?list=PLg0ijj_Zz1a5m-lHE3KnqBBBwjrcHqhym',  # Keras\n",
    "                      'https://www.youtube.com/playlist?list=PLg0ijj_Zz1a68r2P9yENIqm3M-YvOlgYe',  # Processamento digital de sinais\n",
    "                      'https://www.youtube.com/playlist?list=PLg0ijj_Zz1a7-MDI1XO2ovJ0uuBe1xCb7',  # Sistemas operacionais\n",
    "                      'https://www.youtube.com/playlist?list=PLg0ijj_Zz1a4EQOpxQXIb9pPHu6w9herV',  # Compiladores\n",
    "                      'https://www.youtube.com/playlist?list=PLg0ijj_Zz1a6qd__yo0mBPdlFav6BzYoT',  # Estrutura de dados em C\n",
    "                      'https://www.youtube.com/playlist?list=PLg0ijj_Zz1a6Q3uvjhv1xLfAflNfqSFv-',  # P-valor\n",
    "                      'https://www.youtube.com/playlist?list=PLg0ijj_Zz1a4Lwe4V2LeAe7u7vxb-p416',  # Sistemas embarcados\n",
    "                      'https://www.youtube.com/playlist?list=PLg0ijj_Zz1a5ts7T1AlmYPIgWJHig3PZj',  # Sintetizando sons com python\n",
    "                      'https://www.youtube.com/playlist?list=PLg0ijj_Zz1a6x31a2sZ69r9zD_J-abKjN',  # Arduino\n",
    "                      'https://www.youtube.com/playlist?list=PLg0ijj_Zz1a5Th6rb0N7ELizobNIB1PvF',  # Sintese aditiva\n",
    "                      'https://www.youtube.com/playlist?list=PLg0ijj_Zz1a5tKtNvv92N-mJnQKjcApMI',  # MIDI e OSC\n",
    "                      'https://www.youtube.com/playlist?list=PLg0ijj_Zz1a5c2HiUHHYo7EGfKmSAZHyP',  # Efeitos digitais\n",
    "                      'https://www.youtube.com/playlist?list=PLg0ijj_Zz1a4xma5FVf0LbMrfUNCFhU9j',  # Sintese granular\n",
    "                      'https://www.youtube.com/playlist?list=PLg0ijj_Zz1a5ZJpE85xKTUYY3TYTCi9e-',  # Lab software basico\n",
    "                      'https://www.youtube.com/playlist?list=PLg0ijj_Zz1a7n0fhJGSqC1cntApRYIGFH'  # palestras\n",
    "                      ]"
   ]
  },
  {
   "cell_type": "code",
   "execution_count": 4,
   "metadata": {},
   "outputs": [
    {
     "name": "stdout",
     "output_type": "stream",
     "text": [
      "All Urls in playlist:  210\n"
     ]
    }
   ],
   "source": [
    "all_urls = []\n",
    "for playlist_link in playlist_link_list:\n",
    "    playlist_object = Playlist(playlist_link)\n",
    "    list_of_urls = playlist_object.video_urls\n",
    "    all_urls += list_of_urls\n",
    "    \n",
    "print('All Urls in playlist: ', len(all_urls))"
   ]
  },
  {
   "cell_type": "code",
   "execution_count": 6,
   "metadata": {},
   "outputs": [
    {
     "name": "stderr",
     "output_type": "stream",
     "text": [
      " 29%|██▊       | 60/210 [02:00<04:48,  1.93s/it]"
     ]
    },
    {
     "name": "stdout",
     "output_type": "stream",
     "text": [
      "Erro no vídeo:  https://www.youtube.com/watch?v=r8hIT0leJwE\n"
     ]
    },
    {
     "name": "stderr",
     "output_type": "stream",
     "text": [
      "100%|██████████| 210/210 [06:54<00:00,  1.98s/it]\n"
     ]
    }
   ],
   "source": [
    "all_transcripts = []\n",
    "for url in tqdm(all_urls):\n",
    "    try:\n",
    "        loader = YoutubeLoader.from_youtube_url(\n",
    "            url, add_video_info=True, language=['pt']\n",
    "        )\n",
    "        transcript = loader.load()\n",
    "        all_transcripts.append(transcript[0])\n",
    "    except:\n",
    "        print('Erro no vídeo: ', url)"
   ]
  },
  {
   "cell_type": "code",
   "execution_count": 7,
   "metadata": {},
   "outputs": [
    {
     "name": "stdout",
     "output_type": "stream",
     "text": [
      "Total documents:  406\n"
     ]
    }
   ],
   "source": [
    "text_splitter = RecursiveCharacterTextSplitter(\n",
    "    chunk_size=4_000,\n",
    "    chunk_overlap=2_000,\n",
    "    length_function=len,\n",
    "    is_separator_regex=False,\n",
    ")\n",
    "\n",
    "all_transcripts_json_format = [vars(x) for x in all_transcripts]\n",
    "data_loaded = [Document(\n",
    "            page_content=x['page_content'],\n",
    "            metadata=x['metadata'],\n",
    "            type=x['type']\n",
    "        ) for x in all_transcripts_json_format]\n",
    "\n",
    "documents_splitted = []\n",
    "for rec_doc in data_loaded:\n",
    "    docs = insert_metadata_and_type(text_splitter.create_documents([rec_doc.page_content]), rec_doc)\n",
    "    documents_splitted.extend(docs)\n",
    "    \n",
    "print('Total documents: ', len(documents_splitted))"
   ]
  },
  {
   "cell_type": "code",
   "execution_count": 8,
   "metadata": {},
   "outputs": [],
   "source": [
    "import numpy as np\n",
    "import pandas as pd\n",
    "\n",
    "content_splitted = np.array([x.page_content for x in documents_splitted]).reshape(-1, 1)\n",
    "titles = np.array([x.metadata['title'] for x in documents_splitted]).reshape(-1, 1)\n",
    "df = pd.DataFrame(np.concatenate([titles, content_splitted], axis=1), columns=['titles', 'content'])"
   ]
  },
  {
   "cell_type": "code",
   "execution_count": 14,
   "metadata": {},
   "outputs": [],
   "source": [
    "json_content_splitted = [vars(x) for x in documents_splitted]"
   ]
  },
  {
   "cell_type": "code",
   "execution_count": 16,
   "metadata": {},
   "outputs": [],
   "source": [
    "import json\n",
    "\n",
    "# Salvando a lista em um arquivo JSON\n",
    "with open('../data/json_content_splitted_canal_tavares.json', 'w', encoding='utf-8') as arquivo_json:\n",
    "    json.dump(json_content_splitted, arquivo_json, ensure_ascii=False, indent=4)"
   ]
  },
  {
   "cell_type": "code",
   "execution_count": 10,
   "metadata": {},
   "outputs": [],
   "source": [
    "df.to_csv('../data/content_splitted_canal_tavares.csv', index=False)"
   ]
  }
 ],
 "metadata": {
  "kernelspec": {
   "display_name": "env",
   "language": "python",
   "name": "python3"
  },
  "language_info": {
   "codemirror_mode": {
    "name": "ipython",
    "version": 3
   },
   "file_extension": ".py",
   "mimetype": "text/x-python",
   "name": "python",
   "nbconvert_exporter": "python",
   "pygments_lexer": "ipython3",
   "version": "3.10.11"
  }
 },
 "nbformat": 4,
 "nbformat_minor": 2
}
